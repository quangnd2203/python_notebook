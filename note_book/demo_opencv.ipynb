{
 "cells": [
  {
   "cell_type": "code",
   "execution_count": 2,
   "metadata": {},
   "outputs": [],
   "source": [
    "import cv2\n",
    "import numpy as np\n",
    "from matplotlib import pyplot as plt\n",
    "\n",
    "image = cv2.imread('../img/anh3.jpg')\n"
   ]
  },
  {
   "cell_type": "code",
   "execution_count": 44,
   "metadata": {},
   "outputs": [],
   "source": [
    "gray = cv2.cvtColor(image, cv2.COLOR_BGR2GRAY)\n",
    "blurred_image = cv2.medianBlur(gray, 5)\n",
    "_, thresh = cv2.threshold(blurred_image, 149, 255, cv2.THRESH_BINARY)\n",
    "mask = cv2.bitwise_not(thresh)\n",
    "colored_image = np.ones_like(image) * 255\n",
    "colored_image[mask == 255] = (0, 0, 255)\n",
    "alpha = 0.7  # Mức độ trong suốt (0: hoàn toàn trong suốt, 1: hoàn toàn không trong suốt)\n",
    "blended_image = cv2.addWeighted(image, 1 - alpha, colored_image, alpha, 0)\n",
    "white_background = np.ones_like(image) * 255\n",
    "\n",
    "alpha2 = 0.7\n",
    "blended_image2 = cv2.addWeighted(white_background, 1 - alpha2, blended_image, alpha2, 0)\n",
    "\n",
    "cv2.imshow('Colored Image', blended_image2)\n",
    "cv2.waitKey(0)\n",
    "cv2.destroyAllWindows()"
   ]
  },
  {
   "cell_type": "markdown",
   "metadata": {},
   "source": []
  }
 ],
 "metadata": {
  "kernelspec": {
   "display_name": ".venv",
   "language": "python",
   "name": "python3"
  },
  "language_info": {
   "codemirror_mode": {
    "name": "ipython",
    "version": 3
   },
   "file_extension": ".py",
   "mimetype": "text/x-python",
   "name": "python",
   "nbconvert_exporter": "python",
   "pygments_lexer": "ipython3",
   "version": "3.11.0"
  }
 },
 "nbformat": 4,
 "nbformat_minor": 2
}
