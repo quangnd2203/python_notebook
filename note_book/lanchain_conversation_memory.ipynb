{
 "cells": [
  {
   "cell_type": "code",
   "execution_count": 20,
   "metadata": {},
   "outputs": [],
   "source": [
    "from langchain.chains import ConversationChain\n",
    "from langchain.memory import ConversationBufferMemory\n",
    "from langchain_openai import OpenAI\n",
    "from langchain_core.prompts import PromptTemplate\n",
    "\n",
    "import os\n",
    "\n",
    "os.environ[\"OPENAI_API_KEY\"] = \"\"\n",
    "\n",
    "llm = OpenAI(temperature=0)\n",
    "\n",
    "memory = ConversationBufferMemory()\n",
    "\n",
    "prompt = PromptTemplate(\n",
    "    nput_variables=['history', 'input'],\n",
    "    template=(\n",
    "        \"The following is a friendly conversation between a human and an AI. The AI is talkative and provides lots of specific details from its context. \"\n",
    "        \"If the AI does not know the answer to a question, it truthfully says it does not know.\\n\\n\"\n",
    "        \"Current conversation:\\n{history}\\nHuman: {input}\\nAI: Based on the human's request, the image description would be: \"\n",
    "    )\n",
    ")\n",
    "\n",
    "conversation = ConversationChain(\n",
    "    llm=llm,\n",
    "    verbose=True,\n",
    "    memory=memory,\n",
    "    prompt=prompt\n",
    ")"
   ]
  },
  {
   "cell_type": "code",
   "execution_count": 21,
   "metadata": {},
   "outputs": [
    {
     "name": "stdout",
     "output_type": "stream",
     "text": [
      "\n",
      "\n",
      "\u001b[1m> Entering new ConversationChain chain...\u001b[0m\n",
      "Prompt after formatting:\n",
      "\u001b[32;1m\u001b[1;3mThe following is a friendly conversation between a human and an AI. The AI is talkative and provides lots of specific details from its context. If the AI does not know the answer to a question, it truthfully says it does not know.\n",
      "\n",
      "Current conversation:\n",
      "\n",
      "Human: Generate image of a beach\n",
      "AI: Based on the human's request, the image description would be: \u001b[0m\n",
      "\n",
      "\u001b[1m> Finished chain.\u001b[0m\n"
     ]
    },
    {
     "data": {
      "text/plain": [
       "'A beautiful, sunny beach with crystal clear blue water and soft, white sand. The beach is surrounded by lush green palm trees and colorful beach umbrellas. In the distance, there are small waves crashing against the shore. The sky is a vibrant shade of blue with a few fluffy white clouds scattered throughout. The sun is shining down, creating a warm and inviting atmosphere. Would you like me to generate this image for you?'"
      ]
     },
     "execution_count": 21,
     "metadata": {},
     "output_type": "execute_result"
    }
   ],
   "source": [
    "conversation.predict(input = \"Generate image of a beach\")"
   ]
  },
  {
   "cell_type": "code",
   "execution_count": 22,
   "metadata": {},
   "outputs": [
    {
     "name": "stdout",
     "output_type": "stream",
     "text": [
      "\n",
      "\n",
      "\u001b[1m> Entering new ConversationChain chain...\u001b[0m\n",
      "Prompt after formatting:\n",
      "\u001b[32;1m\u001b[1;3mThe following is a friendly conversation between a human and an AI. The AI is talkative and provides lots of specific details from its context. If the AI does not know the answer to a question, it truthfully says it does not know.\n",
      "\n",
      "Current conversation:\n",
      "Human: Generate image of a beach\n",
      "AI: A beautiful, sunny beach with crystal clear blue water and soft, white sand. The beach is surrounded by lush green palm trees and colorful beach umbrellas. In the distance, there are small waves crashing against the shore. The sky is a vibrant shade of blue with a few fluffy white clouds scattered throughout. The sun is shining down, creating a warm and inviting atmosphere. Would you like me to generate this image for you?\n",
      "Human: I need some people\n",
      "AI: Based on the human's request, the image description would be: \u001b[0m\n",
      "\n",
      "\u001b[1m> Finished chain.\u001b[0m\n"
     ]
    },
    {
     "data": {
      "text/plain": [
       "'A group of people enjoying the beach. There are families playing in the sand, children building sandcastles, and couples walking hand in hand along the shoreline. Some people are swimming in the water, while others are lounging on beach towels and soaking up the sun. The beach is bustling with activity and laughter. Would you like me to generate this image for you?'"
      ]
     },
     "execution_count": 22,
     "metadata": {},
     "output_type": "execute_result"
    }
   ],
   "source": [
    "conversation.predict(input = \"I need some people\")"
   ]
  },
  {
   "cell_type": "code",
   "execution_count": 23,
   "metadata": {},
   "outputs": [
    {
     "name": "stdout",
     "output_type": "stream",
     "text": [
      "\n",
      "\n",
      "\u001b[1m> Entering new ConversationChain chain...\u001b[0m\n",
      "Prompt after formatting:\n",
      "\u001b[32;1m\u001b[1;3mThe following is a friendly conversation between a human and an AI. The AI is talkative and provides lots of specific details from its context. If the AI does not know the answer to a question, it truthfully says it does not know.\n",
      "\n",
      "Current conversation:\n",
      "Human: Generate image of a beach\n",
      "AI: A beautiful, sunny beach with crystal clear blue water and soft, white sand. The beach is surrounded by lush green palm trees and colorful beach umbrellas. In the distance, there are small waves crashing against the shore. The sky is a vibrant shade of blue with a few fluffy white clouds scattered throughout. The sun is shining down, creating a warm and inviting atmosphere. Would you like me to generate this image for you?\n",
      "Human: I need some people\n",
      "AI: A group of people enjoying the beach. There are families playing in the sand, children building sandcastles, and couples walking hand in hand along the shoreline. Some people are swimming in the water, while others are lounging on beach towels and soaking up the sun. The beach is bustling with activity and laughter. Would you like me to generate this image for you?\n",
      "Human: I need some dogs\n",
      "AI: Based on the human's request, the image description would be: \u001b[0m\n",
      "\n",
      "\u001b[1m> Finished chain.\u001b[0m\n"
     ]
    },
    {
     "data": {
      "text/plain": [
       "'A few friendly dogs running and playing on the beach. Some are chasing each other in the sand, while others are splashing in the water. Their tails are wagging happily as they enjoy the warm sun and cool ocean breeze. Would you like me to generate this image for you?'"
      ]
     },
     "execution_count": 23,
     "metadata": {},
     "output_type": "execute_result"
    }
   ],
   "source": [
    "conversation.predict(input = \"I need some dogs\")"
   ]
  }
 ],
 "metadata": {
  "kernelspec": {
   "display_name": "Python 3",
   "language": "python",
   "name": "python3"
  },
  "language_info": {
   "codemirror_mode": {
    "name": "ipython",
    "version": 3
   },
   "file_extension": ".py",
   "mimetype": "text/x-python",
   "name": "python",
   "nbconvert_exporter": "python",
   "pygments_lexer": "ipython3",
   "version": "3.11.0"
  }
 },
 "nbformat": 4,
 "nbformat_minor": 2
}
